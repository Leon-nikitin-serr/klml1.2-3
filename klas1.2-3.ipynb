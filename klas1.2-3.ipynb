{
 "cells": [
  {
   "cell_type": "code",
   "execution_count": 3,
   "id": "45af8398-25dc-4c5d-a748-94354f57583b",
   "metadata": {},
   "outputs": [],
   "source": [
    "import numpy as np\n",
    "import pandas as pd\n",
    "from sklearn.model_selection import train_test_split\n",
    "import matplotlib.pyplot as plt"
   ]
  },
  {
   "cell_type": "code",
   "execution_count": 8,
   "id": "5e22a1e1-3677-4ed5-b38a-0f35e3f905d8",
   "metadata": {},
   "outputs": [],
   "source": [
    "import numpy as np\n",
    "\n",
    "class LinearRegression:\n",
    "    def __init__(self, learning_rate, iterations):\n",
    "        \"\"\"\n",
    "        Конструктор класса линейной регрессии.\n",
    "\n",
    "        Параметры:\n",
    "        ----------\n",
    "        learning_rate : float\n",
    "            Скорость обучения.\n",
    "        iterations : int\n",
    "            Количество итераций.\n",
    "        \"\"\"\n",
    "        self.learning_rate = learning_rate\n",
    "        self.iterations = iterations\n",
    "        self.weights = None\n",
    "        self.bias = None\n",
    "        self.X = None\n",
    "        self.Y = None\n",
    "        self.n_samples = None\n",
    "        self.n_features = None\n",
    "\n",
    "    def fit(self, X, Y):\n",
    "        \"\"\"\n",
    "        Обучение модели линейной регрессии с использованием градиентного спуска.\n",
    "\n",
    "        Параметры:\n",
    "        ----------\n",
    "        X : numpy.ndarray\n",
    "            Матрица признаков (размерность: [n_samples, n_features]).\n",
    "        Y : numpy.ndarray\n",
    "            Вектор целевых значений (размерность: [n_samples,]).\n",
    "        \"\"\"\n",
    "        # Проверка на соответствие размеров входных данных\n",
    "        if X.shape[0] != Y.shape[0]:\n",
    "            raise ValueError(\"Количество примеров в X и Y должно совпадать.\")\n",
    "\n",
    "        self.X = X\n",
    "        self.Y = Y\n",
    "        self.n_samples = X.shape[0]\n",
    "        self.n_features = X.shape[1]\n",
    "\n",
    "        # Инициализация весов и смещения нулями\n",
    "        self.weights = np.zeros(self.n_features)\n",
    "        self.bias = 0\n",
    "\n",
    "        # Основной цикл градиентного спуска\n",
    "        for _ in range(self.iterations):\n",
    "            self.update_weights()\n",
    "\n",
    "        return self.weights, self.bias\n",
    "\n",
    "    def update_weights(self):\n",
    "        \"\"\"\n",
    "        Обновление весов и смещения на одной итерации градиентного спуска.\n",
    "        \"\"\"\n",
    "        # Расчет предсказанных значений\n",
    "        Y_pred = np.dot(self.X, self.weights) + self.bias\n",
    "\n",
    "        # Расчет градиентов\n",
    "        dw = (1 / self.n_samples) * np.dot(self.X.T, (Y_pred - self.Y))\n",
    "        db = (1 / self.n_samples) * np.sum(Y_pred - self.Y)\n",
    "\n",
    "        # Обновление весов и смещения\n",
    "        self.weights -= self.learning_rate * dw\n",
    "        self.bias -= self.learning_rate * db\n",
    "\n",
    "    def predict(self, X):\n",
    "        \"\"\"\n",
    "        Предсказание целевых значений для новых входных данных.\n",
    "\n",
    "        Параметры:\n",
    "        ----------\n",
    "        X : numpy.ndarray\n",
    "            Матрица признаков.\n",
    "\n",
    "        Возвращает:\n",
    "        ----------\n",
    "        numpy.ndarray\n",
    "            Вектор предсказанных значений.\n",
    "        \"\"\"\n",
    "        return np.dot(X, self.weights) + self.bias\n"
   ]
  },
  {
   "cell_type": "code",
   "execution_count": 9,
   "id": "048b4d08-16a6-474e-ae85-78c38160b49a",
   "metadata": {},
   "outputs": [
    {
     "name": "stdout",
     "output_type": "stream",
     "text": [
      "9876.11\n",
      "22920.49\n"
     ]
    }
   ],
   "source": [
    "df = pd.read_csv( \"salary_data.csv\" )\n",
    "\n",
    "X = df.iloc[:,:-1].values\n",
    "Y = df.iloc[:,1].values\n",
    "\n",
    "model = LinearRegression(iterations = 1000, learning_rate = 0.01)\n",
    "model.fit(X, Y)\n",
    "\n",
    "Y_pred = model.predict(X)\n",
    "\n",
    "print(*np.round(model.weights, 2))\n",
    "print(np.round(model.bias, 2))\n"
   ]
  },
  {
   "cell_type": "code",
   "execution_count": null,
   "id": "f5bcb909-6096-4b62-bbb0-d0932b5d705c",
   "metadata": {},
   "outputs": [],
   "source": []
  }
 ],
 "metadata": {
  "kernelspec": {
   "display_name": "Python 3 (ipykernel)",
   "language": "python",
   "name": "python3"
  },
  "language_info": {
   "codemirror_mode": {
    "name": "ipython",
    "version": 3
   },
   "file_extension": ".py",
   "mimetype": "text/x-python",
   "name": "python",
   "nbconvert_exporter": "python",
   "pygments_lexer": "ipython3",
   "version": "3.12.7"
  }
 },
 "nbformat": 4,
 "nbformat_minor": 5
}
